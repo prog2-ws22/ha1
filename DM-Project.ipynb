{
  "nbformat": 4,
  "nbformat_minor": 0,
  "metadata": {
    "colab": {
      "provenance": [],
      "collapsed_sections": [
        "T9eutEb7grZ5"
      ]
    },
    "kernelspec": {
      "name": "python3",
      "display_name": "Python 3"
    },
    "language_info": {
      "name": "python"
    }
  },
  "cells": [
    {
      "cell_type": "markdown",
      "source": [
        "# To-Dos: \n",
        "- Korrelationsanalyses"
      ],
      "metadata": {
        "id": "POJHycDB8jFG"
      }
    },
    {
      "cell_type": "code",
      "execution_count": null,
      "metadata": {
        "id": "d5x6J0wrGI8c"
      },
      "outputs": [],
      "source": [
        "## Datensatz 'San Francisco Crime Classification' von Kaggle\n",
        "## Datensatzbeschreibung:\n",
        "# Datum                         - Zeitpunkt der Straftat\n",
        "# Kategorie                     - Kategorie der Straftat (nur in Trainingsdaten), Zielvariable\n",
        "# Beschreibung                  - detaillierte Beschreibung der Straftat (nur in Trainingsdaten)\n",
        "# Tag der Woche\n",
        "# 'District' der Polizeistation - Name des 'Districts' der Polizeistation\n",
        "# Auflösung                     - Ergebniss der Straftat\n",
        "# Adresse                       - geschätzte Adresse der Straftat\n",
        "# X                             - Long\n",
        "# Y                             - Lat"
      ]
    },
    {
      "cell_type": "code",
      "source": [
        "from google.colab import drive\n",
        "drive.mount('/content/drive')"
      ],
      "metadata": {
        "id": "Bxdrq-yLOBPL",
        "colab": {
          "base_uri": "https://localhost:8080/"
        },
        "outputId": "a21aa218-bc1e-4c28-ea7e-58773060ea53"
      },
      "execution_count": 1,
      "outputs": [
        {
          "output_type": "stream",
          "name": "stdout",
          "text": [
            "Mounted at /content/drive\n"
          ]
        }
      ]
    },
    {
      "cell_type": "code",
      "source": [
        "# Import der Pakete\n",
        "import numpy as np\n",
        "import pandas as pd\n",
        "import seaborn as sns\n",
        "from datetime import datetime as dt\n",
        "import matplotlib.pyplot as plt"
      ],
      "metadata": {
        "id": "m9swD2ZOM4hA"
      },
      "execution_count": 2,
      "outputs": []
    },
    {
      "cell_type": "code",
      "source": [
        "# Einlesen der Trainings- und Testdaten\n",
        "train = pd.read_csv(\"/content/drive/MyDrive/Master/DM/SF-Project/data/train.csv\")\n",
        "test  = pd.read_csv(\"/content/drive/MyDrive/Master/DM/SF-Project/data/test.csv\")"
      ],
      "metadata": {
        "id": "Wap2F5dDMnZU"
      },
      "execution_count": 3,
      "outputs": []
    },
    {
      "cell_type": "code",
      "source": [
        "# Übersicht über Kopf der Trainingsdaten\n",
        "train.head()"
      ],
      "metadata": {
        "colab": {
          "base_uri": "https://localhost:8080/",
          "height": 337
        },
        "id": "rw4MfxHfRisW",
        "outputId": "911d7791-b43c-478a-ba13-a85c68ad6579"
      },
      "execution_count": null,
      "outputs": [
        {
          "output_type": "execute_result",
          "data": {
            "text/plain": [
              "                 Dates        Category                      Descript  \\\n",
              "0  2015-05-13 23:53:00        WARRANTS                WARRANT ARREST   \n",
              "1  2015-05-13 23:53:00  OTHER OFFENSES      TRAFFIC VIOLATION ARREST   \n",
              "2  2015-05-13 23:33:00  OTHER OFFENSES      TRAFFIC VIOLATION ARREST   \n",
              "3  2015-05-13 23:30:00   LARCENY/THEFT  GRAND THEFT FROM LOCKED AUTO   \n",
              "4  2015-05-13 23:30:00   LARCENY/THEFT  GRAND THEFT FROM LOCKED AUTO   \n",
              "\n",
              "   DayOfWeek PdDistrict      Resolution                    Address  \\\n",
              "0  Wednesday   NORTHERN  ARREST, BOOKED         OAK ST / LAGUNA ST   \n",
              "1  Wednesday   NORTHERN  ARREST, BOOKED         OAK ST / LAGUNA ST   \n",
              "2  Wednesday   NORTHERN  ARREST, BOOKED  VANNESS AV / GREENWICH ST   \n",
              "3  Wednesday   NORTHERN            NONE   1500 Block of LOMBARD ST   \n",
              "4  Wednesday       PARK            NONE  100 Block of BRODERICK ST   \n",
              "\n",
              "            X          Y  \n",
              "0 -122.425892  37.774599  \n",
              "1 -122.425892  37.774599  \n",
              "2 -122.424363  37.800414  \n",
              "3 -122.426995  37.800873  \n",
              "4 -122.438738  37.771541  "
            ],
            "text/html": [
              "\n",
              "  <div id=\"df-5d80cf63-369d-4ed9-bb7d-a9108c869129\">\n",
              "    <div class=\"colab-df-container\">\n",
              "      <div>\n",
              "<style scoped>\n",
              "    .dataframe tbody tr th:only-of-type {\n",
              "        vertical-align: middle;\n",
              "    }\n",
              "\n",
              "    .dataframe tbody tr th {\n",
              "        vertical-align: top;\n",
              "    }\n",
              "\n",
              "    .dataframe thead th {\n",
              "        text-align: right;\n",
              "    }\n",
              "</style>\n",
              "<table border=\"1\" class=\"dataframe\">\n",
              "  <thead>\n",
              "    <tr style=\"text-align: right;\">\n",
              "      <th></th>\n",
              "      <th>Dates</th>\n",
              "      <th>Category</th>\n",
              "      <th>Descript</th>\n",
              "      <th>DayOfWeek</th>\n",
              "      <th>PdDistrict</th>\n",
              "      <th>Resolution</th>\n",
              "      <th>Address</th>\n",
              "      <th>X</th>\n",
              "      <th>Y</th>\n",
              "    </tr>\n",
              "  </thead>\n",
              "  <tbody>\n",
              "    <tr>\n",
              "      <th>0</th>\n",
              "      <td>2015-05-13 23:53:00</td>\n",
              "      <td>WARRANTS</td>\n",
              "      <td>WARRANT ARREST</td>\n",
              "      <td>Wednesday</td>\n",
              "      <td>NORTHERN</td>\n",
              "      <td>ARREST, BOOKED</td>\n",
              "      <td>OAK ST / LAGUNA ST</td>\n",
              "      <td>-122.425892</td>\n",
              "      <td>37.774599</td>\n",
              "    </tr>\n",
              "    <tr>\n",
              "      <th>1</th>\n",
              "      <td>2015-05-13 23:53:00</td>\n",
              "      <td>OTHER OFFENSES</td>\n",
              "      <td>TRAFFIC VIOLATION ARREST</td>\n",
              "      <td>Wednesday</td>\n",
              "      <td>NORTHERN</td>\n",
              "      <td>ARREST, BOOKED</td>\n",
              "      <td>OAK ST / LAGUNA ST</td>\n",
              "      <td>-122.425892</td>\n",
              "      <td>37.774599</td>\n",
              "    </tr>\n",
              "    <tr>\n",
              "      <th>2</th>\n",
              "      <td>2015-05-13 23:33:00</td>\n",
              "      <td>OTHER OFFENSES</td>\n",
              "      <td>TRAFFIC VIOLATION ARREST</td>\n",
              "      <td>Wednesday</td>\n",
              "      <td>NORTHERN</td>\n",
              "      <td>ARREST, BOOKED</td>\n",
              "      <td>VANNESS AV / GREENWICH ST</td>\n",
              "      <td>-122.424363</td>\n",
              "      <td>37.800414</td>\n",
              "    </tr>\n",
              "    <tr>\n",
              "      <th>3</th>\n",
              "      <td>2015-05-13 23:30:00</td>\n",
              "      <td>LARCENY/THEFT</td>\n",
              "      <td>GRAND THEFT FROM LOCKED AUTO</td>\n",
              "      <td>Wednesday</td>\n",
              "      <td>NORTHERN</td>\n",
              "      <td>NONE</td>\n",
              "      <td>1500 Block of LOMBARD ST</td>\n",
              "      <td>-122.426995</td>\n",
              "      <td>37.800873</td>\n",
              "    </tr>\n",
              "    <tr>\n",
              "      <th>4</th>\n",
              "      <td>2015-05-13 23:30:00</td>\n",
              "      <td>LARCENY/THEFT</td>\n",
              "      <td>GRAND THEFT FROM LOCKED AUTO</td>\n",
              "      <td>Wednesday</td>\n",
              "      <td>PARK</td>\n",
              "      <td>NONE</td>\n",
              "      <td>100 Block of BRODERICK ST</td>\n",
              "      <td>-122.438738</td>\n",
              "      <td>37.771541</td>\n",
              "    </tr>\n",
              "  </tbody>\n",
              "</table>\n",
              "</div>\n",
              "      <button class=\"colab-df-convert\" onclick=\"convertToInteractive('df-5d80cf63-369d-4ed9-bb7d-a9108c869129')\"\n",
              "              title=\"Convert this dataframe to an interactive table.\"\n",
              "              style=\"display:none;\">\n",
              "        \n",
              "  <svg xmlns=\"http://www.w3.org/2000/svg\" height=\"24px\"viewBox=\"0 0 24 24\"\n",
              "       width=\"24px\">\n",
              "    <path d=\"M0 0h24v24H0V0z\" fill=\"none\"/>\n",
              "    <path d=\"M18.56 5.44l.94 2.06.94-2.06 2.06-.94-2.06-.94-.94-2.06-.94 2.06-2.06.94zm-11 1L8.5 8.5l.94-2.06 2.06-.94-2.06-.94L8.5 2.5l-.94 2.06-2.06.94zm10 10l.94 2.06.94-2.06 2.06-.94-2.06-.94-.94-2.06-.94 2.06-2.06.94z\"/><path d=\"M17.41 7.96l-1.37-1.37c-.4-.4-.92-.59-1.43-.59-.52 0-1.04.2-1.43.59L10.3 9.45l-7.72 7.72c-.78.78-.78 2.05 0 2.83L4 21.41c.39.39.9.59 1.41.59.51 0 1.02-.2 1.41-.59l7.78-7.78 2.81-2.81c.8-.78.8-2.07 0-2.86zM5.41 20L4 18.59l7.72-7.72 1.47 1.35L5.41 20z\"/>\n",
              "  </svg>\n",
              "      </button>\n",
              "      \n",
              "  <style>\n",
              "    .colab-df-container {\n",
              "      display:flex;\n",
              "      flex-wrap:wrap;\n",
              "      gap: 12px;\n",
              "    }\n",
              "\n",
              "    .colab-df-convert {\n",
              "      background-color: #E8F0FE;\n",
              "      border: none;\n",
              "      border-radius: 50%;\n",
              "      cursor: pointer;\n",
              "      display: none;\n",
              "      fill: #1967D2;\n",
              "      height: 32px;\n",
              "      padding: 0 0 0 0;\n",
              "      width: 32px;\n",
              "    }\n",
              "\n",
              "    .colab-df-convert:hover {\n",
              "      background-color: #E2EBFA;\n",
              "      box-shadow: 0px 1px 2px rgba(60, 64, 67, 0.3), 0px 1px 3px 1px rgba(60, 64, 67, 0.15);\n",
              "      fill: #174EA6;\n",
              "    }\n",
              "\n",
              "    [theme=dark] .colab-df-convert {\n",
              "      background-color: #3B4455;\n",
              "      fill: #D2E3FC;\n",
              "    }\n",
              "\n",
              "    [theme=dark] .colab-df-convert:hover {\n",
              "      background-color: #434B5C;\n",
              "      box-shadow: 0px 1px 3px 1px rgba(0, 0, 0, 0.15);\n",
              "      filter: drop-shadow(0px 1px 2px rgba(0, 0, 0, 0.3));\n",
              "      fill: #FFFFFF;\n",
              "    }\n",
              "  </style>\n",
              "\n",
              "      <script>\n",
              "        const buttonEl =\n",
              "          document.querySelector('#df-5d80cf63-369d-4ed9-bb7d-a9108c869129 button.colab-df-convert');\n",
              "        buttonEl.style.display =\n",
              "          google.colab.kernel.accessAllowed ? 'block' : 'none';\n",
              "\n",
              "        async function convertToInteractive(key) {\n",
              "          const element = document.querySelector('#df-5d80cf63-369d-4ed9-bb7d-a9108c869129');\n",
              "          const dataTable =\n",
              "            await google.colab.kernel.invokeFunction('convertToInteractive',\n",
              "                                                     [key], {});\n",
              "          if (!dataTable) return;\n",
              "\n",
              "          const docLinkHtml = 'Like what you see? Visit the ' +\n",
              "            '<a target=\"_blank\" href=https://colab.research.google.com/notebooks/data_table.ipynb>data table notebook</a>'\n",
              "            + ' to learn more about interactive tables.';\n",
              "          element.innerHTML = '';\n",
              "          dataTable['output_type'] = 'display_data';\n",
              "          await google.colab.output.renderOutput(dataTable, element);\n",
              "          const docLink = document.createElement('div');\n",
              "          docLink.innerHTML = docLinkHtml;\n",
              "          element.appendChild(docLink);\n",
              "        }\n",
              "      </script>\n",
              "    </div>\n",
              "  </div>\n",
              "  "
            ]
          },
          "metadata": {},
          "execution_count": 5
        }
      ]
    },
    {
      "cell_type": "code",
      "source": [
        "# Datentypen ermitteln\n",
        "train.dtypes"
      ],
      "metadata": {
        "colab": {
          "base_uri": "https://localhost:8080/"
        },
        "id": "Ug4YZq-uRyB5",
        "outputId": "bde47f34-12f4-4701-e780-c14f101fc3d6"
      },
      "execution_count": null,
      "outputs": [
        {
          "output_type": "execute_result",
          "data": {
            "text/plain": [
              "Dates          object\n",
              "Category       object\n",
              "Descript       object\n",
              "DayOfWeek      object\n",
              "PdDistrict     object\n",
              "Resolution     object\n",
              "Address        object\n",
              "X             float64\n",
              "Y             float64\n",
              "dtype: object"
            ]
          },
          "metadata": {},
          "execution_count": 6
        }
      ]
    },
    {
      "cell_type": "code",
      "source": [
        "train.shape"
      ],
      "metadata": {
        "colab": {
          "base_uri": "https://localhost:8080/"
        },
        "id": "8X-BnZSFlJk9",
        "outputId": "c9ee1629-2c12-4d5d-881b-68795c1b0aa2"
      },
      "execution_count": null,
      "outputs": [
        {
          "output_type": "execute_result",
          "data": {
            "text/plain": [
              "(878049, 9)"
            ]
          },
          "metadata": {},
          "execution_count": 7
        }
      ]
    },
    {
      "cell_type": "markdown",
      "source": [
        "# **Datenvorverarbeitung**\n",
        "- Trennung der Datenspalte\n",
        "- NA Behandlung\n",
        "- Duplikate entfernen\n",
        "- Einschränkung der Kategorien"
      ],
      "metadata": {
        "id": "T9eutEb7grZ5"
      }
    },
    {
      "cell_type": "code",
      "source": [
        "## Datenformatierung - Dates\n",
        "# Umwandeln in Datumformat\n",
        "train['Dates'] = pd.to_datetime(train['Dates'])\n",
        "# Trennung von Datum und Uhrzeit\n",
        "train['Date'] = train['Dates'].dt.strftime('%Y-%m-%d')\n",
        "train['Date'] = pd.to_datetime(train['Date'])\n",
        "\n",
        "train['Time'] = train['Dates'].dt.strftime('%H:%M')\n",
        "train['Hour'] = pd.to_datetime(train['Dates'], format='%H:%M').dt.hour"
      ],
      "metadata": {
        "id": "sEHuJBDkSN4z"
      },
      "execution_count": null,
      "outputs": []
    },
    {
      "cell_type": "code",
      "source": [
        "# Jahr, Monat, Tag extrahieren\n",
        "train['Year']  = train['Dates'].dt.strftime('%Y').astype(int)\n",
        "train['Month'] = train['Dates'].dt.strftime('%m').astype(int)\n",
        "train['Day']   = train['Dates'].dt.strftime('%d').astype(int)"
      ],
      "metadata": {
        "id": "APJPxCxZbu_1"
      },
      "execution_count": null,
      "outputs": []
    },
    {
      "cell_type": "code",
      "source": [
        "# Variable WeekOfYear anlegen\n",
        "train['WeekOfYear'] = pd.to_datetime(train['Date']).dt.isocalendar().week.astype(int)"
      ],
      "metadata": {
        "id": "KMdrb27NZx7t"
      },
      "execution_count": null,
      "outputs": []
    },
    {
      "cell_type": "code",
      "source": [
        "# Variable Dates löschen\n",
        "train = train.drop('Dates',axis=1)"
      ],
      "metadata": {
        "id": "4O9HxjLEdl07"
      },
      "execution_count": null,
      "outputs": []
    },
    {
      "cell_type": "code",
      "source": [
        "## NA Behandlung\n",
        "# Übersicht über NA in Spalten\n",
        "train.isna().sum()\n",
        "# keine NA's ersichtlich "
      ],
      "metadata": {
        "colab": {
          "base_uri": "https://localhost:8080/"
        },
        "id": "N2pFoKoNjkOC",
        "outputId": "61476d6b-42d3-4f2e-d00d-4da6c2a46847"
      },
      "execution_count": null,
      "outputs": [
        {
          "output_type": "execute_result",
          "data": {
            "text/plain": [
              "Category      0\n",
              "Descript      0\n",
              "DayOfWeek     0\n",
              "PdDistrict    0\n",
              "Resolution    0\n",
              "Address       0\n",
              "X             0\n",
              "Y             0\n",
              "Date          0\n",
              "Time          0\n",
              "Hour          0\n",
              "Year          0\n",
              "Month         0\n",
              "Day           0\n",
              "WeekOfYear    0\n",
              "dtype: int64"
            ]
          },
          "metadata": {},
          "execution_count": 12
        }
      ]
    },
    {
      "cell_type": "code",
      "source": [
        "# Ausgabe eindeutiger Werte für relevanten Spalten\n",
        "train_uniq = train.loc[:,['Category','PdDistrict','Resolution','Address']]\n",
        "for col in train_uniq:\n",
        "  print(train_uniq[col].value_counts())"
      ],
      "metadata": {
        "id": "lAKTnKWGmTMs",
        "colab": {
          "base_uri": "https://localhost:8080/"
        },
        "outputId": "e66381f7-d974-4378-c073-2740dcb7da1c"
      },
      "execution_count": null,
      "outputs": [
        {
          "output_type": "stream",
          "name": "stdout",
          "text": [
            "LARCENY/THEFT                  174900\n",
            "OTHER OFFENSES                 126182\n",
            "NON-CRIMINAL                    92304\n",
            "ASSAULT                         76876\n",
            "DRUG/NARCOTIC                   53971\n",
            "VEHICLE THEFT                   53781\n",
            "VANDALISM                       44725\n",
            "WARRANTS                        42214\n",
            "BURGLARY                        36755\n",
            "SUSPICIOUS OCC                  31414\n",
            "MISSING PERSON                  25989\n",
            "ROBBERY                         23000\n",
            "FRAUD                           16679\n",
            "FORGERY/COUNTERFEITING          10609\n",
            "SECONDARY CODES                  9985\n",
            "WEAPON LAWS                      8555\n",
            "PROSTITUTION                     7484\n",
            "TRESPASS                         7326\n",
            "STOLEN PROPERTY                  4540\n",
            "SEX OFFENSES FORCIBLE            4388\n",
            "DISORDERLY CONDUCT               4320\n",
            "DRUNKENNESS                      4280\n",
            "RECOVERED VEHICLE                3138\n",
            "KIDNAPPING                       2341\n",
            "DRIVING UNDER THE INFLUENCE      2268\n",
            "RUNAWAY                          1946\n",
            "LIQUOR LAWS                      1903\n",
            "ARSON                            1513\n",
            "LOITERING                        1225\n",
            "EMBEZZLEMENT                     1166\n",
            "SUICIDE                           508\n",
            "FAMILY OFFENSES                   491\n",
            "BAD CHECKS                        406\n",
            "BRIBERY                           289\n",
            "EXTORTION                         256\n",
            "SEX OFFENSES NON FORCIBLE         148\n",
            "GAMBLING                          146\n",
            "PORNOGRAPHY/OBSCENE MAT            22\n",
            "TREA                                6\n",
            "Name: Category, dtype: int64\n",
            "SOUTHERN      157182\n",
            "MISSION       119908\n",
            "NORTHERN      105296\n",
            "BAYVIEW        89431\n",
            "CENTRAL        85460\n",
            "TENDERLOIN     81809\n",
            "INGLESIDE      78845\n",
            "TARAVAL        65596\n",
            "PARK           49313\n",
            "RICHMOND       45209\n",
            "Name: PdDistrict, dtype: int64\n",
            "NONE                                      526790\n",
            "ARREST, BOOKED                            206403\n",
            "ARREST, CITED                              77004\n",
            "LOCATED                                    17101\n",
            "PSYCHOPATHIC CASE                          14534\n",
            "UNFOUNDED                                   9585\n",
            "JUVENILE BOOKED                             5564\n",
            "COMPLAINANT REFUSES TO PROSECUTE            3976\n",
            "DISTRICT ATTORNEY REFUSES TO PROSECUTE      3934\n",
            "NOT PROSECUTED                              3714\n",
            "JUVENILE CITED                              3332\n",
            "PROSECUTED BY OUTSIDE AGENCY                2504\n",
            "EXCEPTIONAL CLEARANCE                       1530\n",
            "JUVENILE ADMONISHED                         1455\n",
            "JUVENILE DIVERTED                            355\n",
            "CLEARED-CONTACT JUVENILE FOR MORE INFO       217\n",
            "PROSECUTED FOR LESSER OFFENSE                 51\n",
            "Name: Resolution, dtype: int64\n",
            "800 Block of BRYANT ST           26533\n",
            "800 Block of MARKET ST            6581\n",
            "2000 Block of MISSION ST          5097\n",
            "1000 Block of POTRERO AV          4063\n",
            "900 Block of MARKET ST            3251\n",
            "                                 ...  \n",
            "PRECITA AV / CESAR CHAVEZ ST         1\n",
            "0 Block of COLUSA PL                 1\n",
            "2800 Block of KEITH ST               1\n",
            "CABRILLO ST / ARGUELLO BL            1\n",
            "OFARRELL ST / CYRIL MAGNIN ST        1\n",
            "Name: Address, Length: 23228, dtype: int64\n"
          ]
        }
      ]
    },
    {
      "cell_type": "code",
      "source": [
        "# Augenscheinlich keine fehlerhaften/uneindeutige Werte enthalten"
      ],
      "metadata": {
        "id": "G6_cRzhHpJ-W"
      },
      "execution_count": null,
      "outputs": []
    },
    {
      "cell_type": "code",
      "source": [
        "## Duplikate\n",
        "# Anzahl der Duplikate\n",
        "dup_rows = train.duplicated()\n",
        "print('Anzahl an duplizierten Zeilen:',sum(dup_rows))"
      ],
      "metadata": {
        "colab": {
          "base_uri": "https://localhost:8080/"
        },
        "id": "KOUQ98Kzkw3_",
        "outputId": "b8b287e1-a86f-4cec-b422-50568ebda33e"
      },
      "execution_count": null,
      "outputs": [
        {
          "output_type": "stream",
          "name": "stdout",
          "text": [
            "Anzahl an duplizierten Zeilen: 2323\n"
          ]
        }
      ]
    },
    {
      "cell_type": "code",
      "source": [
        "# Entfernen der Duplikate\n",
        "train        = train.drop_duplicates()\n",
        "dup_rows_new = train.duplicated()\n",
        "print('Anzahl an duplizierten Zeilen:',sum(dup_rows_new))"
      ],
      "metadata": {
        "colab": {
          "base_uri": "https://localhost:8080/"
        },
        "id": "7sxcutbqlzTL",
        "outputId": "a38d771e-d92c-4966-8c03-71a81e5c5f6a"
      },
      "execution_count": null,
      "outputs": [
        {
          "output_type": "stream",
          "name": "stdout",
          "text": [
            "Anzahl an duplizierten Zeilen: 0\n"
          ]
        }
      ]
    },
    {
      "cell_type": "code",
      "source": [
        "## Datenformatierung - Category\n",
        "# Übersicht über Verbrechenskategorien\n",
        "train['Category'].unique()"
      ],
      "metadata": {
        "colab": {
          "base_uri": "https://localhost:8080/"
        },
        "id": "kQP-KEDTeHnc",
        "outputId": "c9b65bb1-2b7f-436e-fbd4-61fc7ec61513"
      },
      "execution_count": null,
      "outputs": [
        {
          "output_type": "execute_result",
          "data": {
            "text/plain": [
              "array(['WARRANTS', 'OTHER OFFENSES', 'LARCENY/THEFT', 'VEHICLE THEFT',\n",
              "       'VANDALISM', 'NON-CRIMINAL', 'ROBBERY', 'ASSAULT', 'WEAPON LAWS',\n",
              "       'BURGLARY', 'SUSPICIOUS OCC', 'DRUNKENNESS',\n",
              "       'FORGERY/COUNTERFEITING', 'DRUG/NARCOTIC', 'STOLEN PROPERTY',\n",
              "       'SECONDARY CODES', 'TRESPASS', 'MISSING PERSON', 'FRAUD',\n",
              "       'KIDNAPPING', 'RUNAWAY', 'DRIVING UNDER THE INFLUENCE',\n",
              "       'SEX OFFENSES FORCIBLE', 'PROSTITUTION', 'DISORDERLY CONDUCT',\n",
              "       'ARSON', 'FAMILY OFFENSES', 'LIQUOR LAWS', 'BRIBERY',\n",
              "       'EMBEZZLEMENT', 'SUICIDE', 'LOITERING',\n",
              "       'SEX OFFENSES NON FORCIBLE', 'EXTORTION', 'GAMBLING', 'BAD CHECKS',\n",
              "       'TREA', 'RECOVERED VEHICLE', 'PORNOGRAPHY/OBSCENE MAT'],\n",
              "      dtype=object)"
            ]
          },
          "metadata": {},
          "execution_count": 17
        }
      ]
    },
    {
      "cell_type": "code",
      "source": [
        "# Filtern der benötigten Kategorien\n",
        "imp_cat   = ['LARCENY/THEFT','ASSAULT','DRUG/NARCOTIC','VEHICLE THEFT','BURGLARY']\n",
        "train_sub = train[train['Category'].isin(imp_cat)]"
      ],
      "metadata": {
        "id": "aY4wcSkcgRWW"
      },
      "execution_count": null,
      "outputs": []
    },
    {
      "cell_type": "code",
      "source": [
        "train_sub['Category'].unique()"
      ],
      "metadata": {
        "colab": {
          "base_uri": "https://localhost:8080/"
        },
        "id": "zYSwUVp1iruO",
        "outputId": "3fb9bf5e-69ac-4450-9b92-682b78a3608a"
      },
      "execution_count": null,
      "outputs": [
        {
          "output_type": "execute_result",
          "data": {
            "text/plain": [
              "array(['LARCENY/THEFT', 'VEHICLE THEFT', 'ASSAULT', 'BURGLARY',\n",
              "       'DRUG/NARCOTIC'], dtype=object)"
            ]
          },
          "metadata": {},
          "execution_count": 19
        }
      ]
    },
    {
      "cell_type": "markdown",
      "source": [
        "# **Deskriptive Analyse**\n"
      ],
      "metadata": {
        "id": "6m29u9ZJrXJs"
      }
    },
    {
      "cell_type": "code",
      "source": [
        "## Korrelationsanalyse Heatmap\n",
        "plt.figure(figsize=(16, 6))\n",
        "heatmap = sns.heatmap(train.corr(), vmin=-1,vmax=1, annot=True)\n",
        "heatmap.set_title('Correlation Heatmap', fontdict={'fontsize':12}, pad=12)"
      ],
      "metadata": {
        "colab": {
          "base_uri": "https://localhost:8080/",
          "height": 413
        },
        "id": "zisL0MFxXYbH",
        "outputId": "f41cbb26-5a2e-492b-d566-3e7e1c07227a"
      },
      "execution_count": null,
      "outputs": [
        {
          "output_type": "execute_result",
          "data": {
            "text/plain": [
              "Text(0.5, 1.0, 'Correlation Heatmap')"
            ]
          },
          "metadata": {},
          "execution_count": 20
        },
        {
          "output_type": "display_data",
          "data": {
            "text/plain": [
              "<Figure size 1152x432 with 2 Axes>"
            ],
            "image/png": "[encoded data removed]"
          },
          "metadata": {
            "needs_background": "light"
          }
        }
      ]
    },
    {
      "cell_type": "code",
      "source": [
        "from scipy.stats import chi2_contingency\n",
        "\n",
        "def cramers_V(var1,var2) :\n",
        "  crosstab =np.array(pd.crosstab(var1,var2, rownames=None, colnames=None)) # Cross table building\n",
        "  stat = chi2_contingency(crosstab)[0] # Keeping of the test statistic of the Chi2 test\n",
        "  obs = np.sum(crosstab) # Number of observations\n",
        "  mini = min(crosstab.shape)-1 # Take the minimum value between the columns and the rows of the cross table\n",
        "  return (stat/(obs*mini))\n",
        "\n",
        "train_cat = train[['Category','Descript','PdDistrict','Resolution']]"
      ],
      "metadata": {
        "id": "lZSKAy5pZGFa"
      },
      "execution_count": null,
      "outputs": []
    },
    {
      "cell_type": "markdown",
      "source": [
        "Korrelationsanalyse von nominal kategorischen Merkmalen, ohne Addresse aufgrund des geringen Rams in Colab. \n",
        "Description und Category sind hoch korreliert, was jedoch nicht weiter verwunderlich ist. Der Rest ist unauffällig."
      ],
      "metadata": {
        "id": "QHc0rQJWel_n"
      }
    },
    {
      "cell_type": "code",
      "source": [
        "rows= []\n",
        "\n",
        "for var1 in train_cat:\n",
        "  col = []\n",
        "  for var2 in train_cat :\n",
        "    cramers =cramers_V(train_cat[var1], train_cat[var2]) # Cramer's V test\n",
        "    col.append(round(cramers,2)) # Keeping of the rounded value of the Cramer's V  \n",
        "  rows.append(col)\n",
        "  \n",
        "cramers_results = np.array(rows)\n",
        "df = pd.DataFrame(cramers_results, columns = train_cat.columns, index =train_cat.columns)\n",
        "\n",
        "\n",
        "\n",
        "df"
      ],
      "metadata": {
        "id": "E0kdiBkPcTj2"
      },
      "execution_count": null,
      "outputs": []
    },
    {
      "cell_type": "code",
      "source": [
        "## Verteilung Straftaten\n",
        "sns.set_palette('RdBu_r')\n",
        "sns.countplot(x='Category',\n",
        "              data=train_sub,\n",
        "              order = train_sub['Category'].value_counts().index)\n",
        "plt.ylabel('Anzahl Straftaten')\n",
        "plt.xticks(rotation=45)\n",
        "plt.show()"
      ],
      "metadata": {
        "id": "ifupIkE3xr9C"
      },
      "execution_count": null,
      "outputs": []
    },
    {
      "cell_type": "code",
      "source": [
        "## Anzahl der Straftaten je Revier\n",
        "sns.set_palette('RdBu_r')\n",
        "k = sns.catplot(x='PdDistrict',\n",
        "            data=train_sub,\n",
        "            order=train_sub['PdDistrict'].value_counts().index,\n",
        "            kind='count')\n",
        "k.set_ylabels('Anzahl Straftaten')\n",
        "plt.xticks(rotation=45)\n",
        "plt.show()"
      ],
      "metadata": {
        "id": "LJwKESHx8xTl"
      },
      "execution_count": null,
      "outputs": []
    },
    {
      "cell_type": "code",
      "source": [
        "## Verteilung der Straftatsarten je Revier\n",
        "sns.set_palette('RdBu_r')\n",
        "g = sns.catplot(x='Category',\n",
        "              data=train_sub,\n",
        "            kind='count',\n",
        "              order = train_sub['Category'].value_counts().index,\n",
        "            col='PdDistrict',\n",
        "            col_wrap=5,\n",
        "            col_order=train_sub['PdDistrict'].value_counts().index)\n",
        "g.set_ylabels('Anzahl Straftaten')\n",
        "for ax in g.axes:\n",
        "    plt.setp(ax.get_xticklabels(), visible=True, rotation=45)\n",
        "g.tight_layout()\n",
        "plt.show()"
      ],
      "metadata": {
        "id": "R-c3FA6D00N8"
      },
      "execution_count": null,
      "outputs": []
    },
    {
      "cell_type": "code",
      "source": [
        "## Verteilung Auflösungen\n",
        "sns.set_palette('RdBu_r')\n",
        "sns.countplot(y='Resolution',\n",
        "              data=train_sub,\n",
        "              order = train_sub['Resolution'].value_counts().index)\n",
        "plt.xlabel('Anzahl Auflösungen')\n",
        "#plt.xticks(rotation=90)\n",
        "plt.show()"
      ],
      "metadata": {
        "id": "Zt7DFtyGgcL0"
      },
      "execution_count": null,
      "outputs": []
    },
    {
      "cell_type": "code",
      "source": [
        "## Zusammenführen der geringen Resolution Ausprägungen\n",
        "top_res = train_sub.groupby(['Resolution']).size().reset_index(name='counts')\n",
        "top_res = top_res.sort_values(by='counts',ascending=False)\n",
        "top_res_names = top_res.iloc[0:4,0].tolist()\n",
        "top_res_names"
      ],
      "metadata": {
        "colab": {
          "base_uri": "https://localhost:8080/"
        },
        "id": "dO020I8iIAGT",
        "outputId": "3f00e4af-03f5-489d-fe44-84d309257f34"
      },
      "execution_count": null,
      "outputs": [
        {
          "output_type": "execute_result",
          "data": {
            "text/plain": [
              "['NONE', 'ARREST, BOOKED', 'ARREST, CITED', 'UNFOUNDED']"
            ]
          },
          "metadata": {},
          "execution_count": 67
        }
      ]
    },
    {
      "cell_type": "code",
      "source": [
        "## Alle Ausprägungen mit geringer Anzahl werden zusammengefasst\n",
        "train_sub_red = train_sub\n",
        "train_sub_red['Resolution'].mask(~train_sub_red['Resolution'].isin(top_res_names), 'OTHER', inplace=True)"
      ],
      "metadata": {
        "colab": {
          "base_uri": "https://localhost:8080/"
        },
        "id": "WRoixm20I2D8",
        "outputId": "d2322f70-37ff-475a-fdae-d6b7c19eb001"
      },
      "execution_count": null,
      "outputs": [
        {
          "output_type": "stream",
          "name": "stderr",
          "text": [
            "/usr/local/lib/python3.7/dist-packages/pandas/core/generic.py:8870: SettingWithCopyWarning: \n",
            "A value is trying to be set on a copy of a slice from a DataFrame\n",
            "\n",
            "See the caveats in the documentation: https://pandas.pydata.org/pandas-docs/stable/user_guide/indexing.html#returning-a-view-versus-a-copy\n",
            "  return self._update_inplace(result)\n"
          ]
        }
      ]
    },
    {
      "cell_type": "code",
      "source": [
        "train_sub_red.groupby('Resolution').size()"
      ],
      "metadata": {
        "colab": {
          "base_uri": "https://localhost:8080/"
        },
        "id": "ncQDCIk3Nzpf",
        "outputId": "8522a6b2-0c7e-4649-c945-789cead5ba18"
      },
      "execution_count": null,
      "outputs": [
        {
          "output_type": "execute_result",
          "data": {
            "text/plain": [
              "Resolution\n",
              "ARREST, BOOKED     83907\n",
              "ARREST, CITED      13426\n",
              "NONE              285260\n",
              "OTHER               9155\n",
              "UNFOUNDED           3612\n",
              "dtype: int64"
            ]
          },
          "metadata": {},
          "execution_count": 88
        }
      ]
    },
    {
      "cell_type": "code",
      "source": [
        "sns.displot(train_sub, x='Category', hue='Resolution', multiple='stack')\n",
        "plt.xticks(rotation=45)"
      ],
      "metadata": {
        "colab": {
          "base_uri": "https://localhost:8080/",
          "height": 443
        },
        "id": "RZy_R-NHmrJZ",
        "outputId": "ce554050-cb52-4736-ab62-e58b711c6f35"
      },
      "execution_count": null,
      "outputs": [
        {
          "output_type": "execute_result",
          "data": {
            "text/plain": [
              "([0, 1, 2, 3, 4], <a list of 5 Text major ticklabel objects>)"
            ]
          },
          "metadata": {},
          "execution_count": 90
        },
        {
          "output_type": "display_data",
          "data": {
            "text/plain": [
              "<Figure size 484.125x360 with 1 Axes>"
            ],
            "image/png": "[encoded data removed]"
          },
          "metadata": {
            "needs_background": "light"
          }
        }
      ]
    },
    {
      "cell_type": "markdown",
      "source": [],
      "metadata": {
        "id": "3SXIoGQ9lMRV"
      }
    },
    {
      "cell_type": "markdown",
      "source": [
        "# **Feature Engineering**"
      ],
      "metadata": {
        "id": "7RBVA-ZNlqcW"
      }
    },
    {
      "cell_type": "code",
      "source": [],
      "metadata": {
        "id": "ZxhYeUqYl1Jl"
      },
      "execution_count": null,
      "outputs": []
    }
  ]
}